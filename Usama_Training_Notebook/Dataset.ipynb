{
 "cells": [
  {
   "cell_type": "markdown",
   "metadata": {},
   "source": [
    "Imports"
   ]
  },
  {
   "cell_type": "code",
   "execution_count": 1,
   "metadata": {},
   "outputs": [],
   "source": [
    "import os\n",
    "import shutil"
   ]
  },
  {
   "cell_type": "markdown",
   "metadata": {},
   "source": [
    "Code to Classify the data According to Country Name"
   ]
  },
  {
   "cell_type": "code",
   "execution_count": 9,
   "metadata": {},
   "outputs": [
    {
     "name": "stdout",
     "output_type": "stream",
     "text": [
      "Organizing complete.\n"
     ]
    }
   ],
   "source": [
    "# Set the source folder path containing your CSV files\n",
    "source_folder = r\"C:/DeepChainSols/MPC/Dateset\"\n",
    "\n",
    "# Set the absolute path to the root destination folder\n",
    "root_destination_folder = r\"Organized Data\"\n",
    "os.makedirs(root_destination_folder, exist_ok=True)\n",
    "\n",
    "# Iterate through the CSV files in the source folder\n",
    "for filename in os.listdir(source_folder):\n",
    "    if filename.endswith(\".csv\"):\n",
    "        # Parse the filename to extract country\n",
    "        parts = filename.split(\"_\")\n",
    "        country = parts[1]\n",
    "\n",
    "        # Create destination path\n",
    "        country_folder = os.path.join(root_destination_folder, country)\n",
    "\n",
    "        # Create the folder if it doesn't exist\n",
    "        os.makedirs(country_folder, exist_ok=True)\n",
    "\n",
    "        # Copy the CSV file to the country folder\n",
    "        source_file_path = os.path.join(source_folder, filename)\n",
    "        destination_file_path = os.path.join(country_folder, filename)\n",
    "        shutil.copy(source_file_path, destination_file_path)\n",
    "\n",
    "print(\"Organizing complete.\")"
   ]
  }
 ],
 "metadata": {
  "kernelspec": {
   "display_name": "DeepChain",
   "language": "python",
   "name": "python3"
  },
  "language_info": {
   "codemirror_mode": {
    "name": "ipython",
    "version": 3
   },
   "file_extension": ".py",
   "mimetype": "text/x-python",
   "name": "python",
   "nbconvert_exporter": "python",
   "pygments_lexer": "ipython3",
   "version": "3.12.0"
  }
 },
 "nbformat": 4,
 "nbformat_minor": 2
}
