{
 "cells": [
  {
   "cell_type": "markdown",
   "metadata": {},
   "source": [
    "Imports"
   ]
  },
  {
   "cell_type": "code",
   "execution_count": 2,
   "metadata": {},
   "outputs": [],
   "source": [
    "import os\n",
    "import shutil"
   ]
  },
  {
   "cell_type": "markdown",
   "metadata": {},
   "source": [
    "Code to Classify the data According to Country Name"
   ]
  },
  {
   "cell_type": "code",
   "execution_count": 17,
   "metadata": {},
   "outputs": [
    {
     "name": "stdout",
     "output_type": "stream",
     "text": [
      "Organizing complete.\n"
     ]
    }
   ],
   "source": [
    "# Specify the directory where your files are located\n",
    "source_dir = r\"C:/DeepChainSols/MPC/Dateset\"\n",
    "\n",
    "# Get a list of all csv files in the source directory\n",
    "files = [f for f in os.listdir(source_dir) if os.path.isfile(os.path.join(source_dir, f)) and f.endswith('.csv')]\n",
    "\n",
    "# Create the \"Organized Data\" directory if it doesn't exist\n",
    "if not os.path.exists('Organized Data'):\n",
    "    os.makedirs('Organized Data')\n",
    "\n",
    "for file in files:\n",
    "    # Split the filename into its components\n",
    "    components = file.split('_')\n",
    "    \n",
    "    # The second component is the country\n",
    "    country = components[1]\n",
    "    \n",
    "    # Create the country directory inside \"Organized Data\" if it doesn't exist\n",
    "    country_dir = os.path.join('Organized Data', country)\n",
    "    if not os.path.exists(country_dir):\n",
    "        os.makedirs(country_dir)\n",
    "    \n",
    "    # Move the file from the source directory into the country directory\n",
    "    shutil.copy(os.path.join(source_dir, file), os.path.join(country_dir, file))\n",
    "print(\"Organizing complete.\")"
   ]
  }
 ],
 "metadata": {
  "kernelspec": {
   "display_name": "DeepChain",
   "language": "python",
   "name": "python3"
  },
  "language_info": {
   "codemirror_mode": {
    "name": "ipython",
    "version": 3
   },
   "file_extension": ".py",
   "mimetype": "text/x-python",
   "name": "python",
   "nbconvert_exporter": "python",
   "pygments_lexer": "ipython3",
   "version": "3.12.0"
  }
 },
 "nbformat": 4,
 "nbformat_minor": 2
}
