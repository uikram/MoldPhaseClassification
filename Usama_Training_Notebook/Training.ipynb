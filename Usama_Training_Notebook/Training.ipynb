{
 "cells": [
  {
   "cell_type": "code",
   "execution_count": 1,
   "metadata": {},
   "outputs": [],
   "source": [
    "import os\n",
    "# from utils.Preprocessing import filter,features,plots\n",
    "import pandas as pd\n",
    "import numpy as np\n",
    "from sklearn.model_selection import train_test_split\n",
    "import warnings\n",
    "import datetime\n",
    "from utils.Preprocessing import label_data, all_phase_sort\n",
    "from utils.sliding_window import sliding_window\n",
    "from utils.model import model\n",
    "warnings.filterwarnings(\"ignore\")\n"
   ]
  },
  {
   "cell_type": "markdown",
   "metadata": {},
   "source": [
    "This code uploads all files from a country"
   ]
  },
  {
   "cell_type": "code",
   "execution_count": null,
   "metadata": {},
   "outputs": [],
   "source": [
    "#Label the Raw Data (Directory for Labelled = \\Processed\\Labelled_Data)\n",
    "label_data('Organized Data')"
   ]
  },
  {
   "cell_type": "code",
   "execution_count": null,
   "metadata": {},
   "outputs": [],
   "source": [
    "#Sort Data Containing All phases (Directory containing all phases = \\Labelled_Data_Complete_Phase(1-4))\n",
    "all_phase_sort('Processed\\Labelled_Data')"
   ]
  },
  {
   "cell_type": "markdown",
   "metadata": {},
   "source": [
    "This code is used to upload data from a single file"
   ]
  },
  {
   "cell_type": "code",
   "execution_count": 3,
   "metadata": {},
   "outputs": [
    {
     "data": {
      "text/html": [
       "<div>\n",
       "<style scoped>\n",
       "    .dataframe tbody tr th:only-of-type {\n",
       "        vertical-align: middle;\n",
       "    }\n",
       "\n",
       "    .dataframe tbody tr th {\n",
       "        vertical-align: top;\n",
       "    }\n",
       "\n",
       "    .dataframe thead th {\n",
       "        text-align: right;\n",
       "    }\n",
       "</style>\n",
       "<table border=\"1\" class=\"dataframe\">\n",
       "  <thead>\n",
       "    <tr style=\"text-align: right;\">\n",
       "      <th></th>\n",
       "      <th>HOUR</th>\n",
       "      <th>MOLD_ID</th>\n",
       "      <th>CT</th>\n",
       "      <th>TAV</th>\n",
       "      <th>SHOT_COUNT</th>\n",
       "      <th>PHASE</th>\n",
       "    </tr>\n",
       "  </thead>\n",
       "  <tbody>\n",
       "    <tr>\n",
       "      <th>0</th>\n",
       "      <td>2020-09-22 16:00:00</td>\n",
       "      <td>36475</td>\n",
       "      <td>0.0</td>\n",
       "      <td>273</td>\n",
       "      <td>0</td>\n",
       "      <td>0</td>\n",
       "    </tr>\n",
       "    <tr>\n",
       "      <th>1</th>\n",
       "      <td>2020-09-22 17:00:00</td>\n",
       "      <td>36475</td>\n",
       "      <td>0.0</td>\n",
       "      <td>273</td>\n",
       "      <td>0</td>\n",
       "      <td>0</td>\n",
       "    </tr>\n",
       "    <tr>\n",
       "      <th>2</th>\n",
       "      <td>2020-09-22 18:00:00</td>\n",
       "      <td>36475</td>\n",
       "      <td>0.0</td>\n",
       "      <td>276</td>\n",
       "      <td>0</td>\n",
       "      <td>0</td>\n",
       "    </tr>\n",
       "    <tr>\n",
       "      <th>3</th>\n",
       "      <td>2020-09-22 19:00:00</td>\n",
       "      <td>36475</td>\n",
       "      <td>0.0</td>\n",
       "      <td>275</td>\n",
       "      <td>0</td>\n",
       "      <td>0</td>\n",
       "    </tr>\n",
       "    <tr>\n",
       "      <th>4</th>\n",
       "      <td>2020-09-22 20:00:00</td>\n",
       "      <td>36475</td>\n",
       "      <td>0.0</td>\n",
       "      <td>275</td>\n",
       "      <td>0</td>\n",
       "      <td>0</td>\n",
       "    </tr>\n",
       "    <tr>\n",
       "      <th>...</th>\n",
       "      <td>...</td>\n",
       "      <td>...</td>\n",
       "      <td>...</td>\n",
       "      <td>...</td>\n",
       "      <td>...</td>\n",
       "      <td>...</td>\n",
       "    </tr>\n",
       "    <tr>\n",
       "      <th>18081</th>\n",
       "      <td>2023-10-29 12:00:00</td>\n",
       "      <td>36475</td>\n",
       "      <td>0.0</td>\n",
       "      <td>225</td>\n",
       "      <td>0</td>\n",
       "      <td>1</td>\n",
       "    </tr>\n",
       "    <tr>\n",
       "      <th>18082</th>\n",
       "      <td>2023-10-29 13:00:00</td>\n",
       "      <td>36475</td>\n",
       "      <td>0.0</td>\n",
       "      <td>224</td>\n",
       "      <td>0</td>\n",
       "      <td>1</td>\n",
       "    </tr>\n",
       "    <tr>\n",
       "      <th>18083</th>\n",
       "      <td>2023-10-29 14:00:00</td>\n",
       "      <td>36475</td>\n",
       "      <td>0.0</td>\n",
       "      <td>225</td>\n",
       "      <td>0</td>\n",
       "      <td>1</td>\n",
       "    </tr>\n",
       "    <tr>\n",
       "      <th>18084</th>\n",
       "      <td>2023-10-29 15:00:00</td>\n",
       "      <td>36475</td>\n",
       "      <td>0.0</td>\n",
       "      <td>221</td>\n",
       "      <td>0</td>\n",
       "      <td>1</td>\n",
       "    </tr>\n",
       "    <tr>\n",
       "      <th>18085</th>\n",
       "      <td>2023-10-29 16:00:00</td>\n",
       "      <td>36475</td>\n",
       "      <td>0.0</td>\n",
       "      <td>222</td>\n",
       "      <td>0</td>\n",
       "      <td>1</td>\n",
       "    </tr>\n",
       "  </tbody>\n",
       "</table>\n",
       "<p>18086 rows × 6 columns</p>\n",
       "</div>"
      ],
      "text/plain": [
       "                      HOUR  MOLD_ID   CT  TAV  SHOT_COUNT  PHASE\n",
       "0      2020-09-22 16:00:00    36475  0.0  273           0      0\n",
       "1      2020-09-22 17:00:00    36475  0.0  273           0      0\n",
       "2      2020-09-22 18:00:00    36475  0.0  276           0      0\n",
       "3      2020-09-22 19:00:00    36475  0.0  275           0      0\n",
       "4      2020-09-22 20:00:00    36475  0.0  275           0      0\n",
       "...                    ...      ...  ...  ...         ...    ...\n",
       "18081  2023-10-29 12:00:00    36475  0.0  225           0      1\n",
       "18082  2023-10-29 13:00:00    36475  0.0  224           0      1\n",
       "18083  2023-10-29 14:00:00    36475  0.0  225           0      1\n",
       "18084  2023-10-29 15:00:00    36475  0.0  221           0      1\n",
       "18085  2023-10-29 16:00:00    36475  0.0  222           0      1\n",
       "\n",
       "[18086 rows x 6 columns]"
      ]
     },
     "execution_count": 3,
     "metadata": {},
     "output_type": "execute_result"
    }
   ],
   "source": [
    "#Loading one mold for training\n",
    "df=pd.read_csv('Processed/Labelled_Data_Complete_Phase(0-1)/china/abb_china_36475_statistics.csv')\n",
    "df"
   ]
  },
  {
   "cell_type": "code",
   "execution_count": 4,
   "metadata": {},
   "outputs": [
    {
     "name": "stdout",
     "output_type": "stream",
     "text": [
      "0        0\n",
      "1        0\n",
      "2        0\n",
      "3        0\n",
      "4        0\n",
      "        ..\n",
      "18081    1\n",
      "18082    1\n",
      "18083    1\n",
      "18084    1\n",
      "18085    1\n",
      "Name: PHASE, Length: 18086, dtype: int64\n"
     ]
    }
   ],
   "source": [
    "print(df['PHASE'])"
   ]
  },
  {
   "cell_type": "code",
   "execution_count": 5,
   "metadata": {},
   "outputs": [
    {
     "name": "stdout",
     "output_type": "stream",
     "text": [
      "X_train Shape  (17366, 720, 3)\n",
      "Y_train Shape  (17366, 720)\n"
     ]
    }
   ],
   "source": [
    "#Creating a sliding window \n",
    "window_size= 720 #window size is in hours (1D= 24, 1W=168, 1M=720)\n",
    "x,y = sliding_window(df,window_size)\n",
    "print('X_train Shape ',x.shape)\n",
    "print('Y_train Shape ',y.shape)"
   ]
  },
  {
   "cell_type": "code",
   "execution_count": 6,
   "metadata": {},
   "outputs": [
    {
     "name": "stderr",
     "output_type": "stream",
     "text": [
      "\u001b[34m\u001b[1mwandb\u001b[0m: Currently logged in as: \u001b[33musama-ikram\u001b[0m. Use \u001b[1m`wandb login --relogin`\u001b[0m to force relogin\n"
     ]
    },
    {
     "data": {
      "text/html": [
       "wandb version 0.16.0 is available!  To upgrade, please run:\n",
       " $ pip install wandb --upgrade"
      ],
      "text/plain": [
       "<IPython.core.display.HTML object>"
      ]
     },
     "metadata": {},
     "output_type": "display_data"
    },
    {
     "data": {
      "text/html": [
       "Tracking run with wandb version 0.15.11"
      ],
      "text/plain": [
       "<IPython.core.display.HTML object>"
      ]
     },
     "metadata": {},
     "output_type": "display_data"
    },
    {
     "data": {
      "text/html": [
       "Run data is saved locally in <code>c:\\DeepChainSols\\MPC\\Usama_Training_Notebook\\wandb\\run-20231205_162117-tt5io8a9</code>"
      ],
      "text/plain": [
       "<IPython.core.display.HTML object>"
      ]
     },
     "metadata": {},
     "output_type": "display_data"
    },
    {
     "data": {
      "text/html": [
       "Syncing run <strong><a href='https://wandb.ai/deepchain/MPD/runs/tt5io8a9' target=\"_blank\">kind-eon-10</a></strong> to <a href='https://wandb.ai/deepchain/MPD' target=\"_blank\">Weights & Biases</a> (<a href='https://wandb.me/run' target=\"_blank\">docs</a>)<br/>"
      ],
      "text/plain": [
       "<IPython.core.display.HTML object>"
      ]
     },
     "metadata": {},
     "output_type": "display_data"
    },
    {
     "data": {
      "text/html": [
       " View project at <a href='https://wandb.ai/deepchain/MPD' target=\"_blank\">https://wandb.ai/deepchain/MPD</a>"
      ],
      "text/plain": [
       "<IPython.core.display.HTML object>"
      ]
     },
     "metadata": {},
     "output_type": "display_data"
    },
    {
     "data": {
      "text/html": [
       " View run at <a href='https://wandb.ai/deepchain/MPD/runs/tt5io8a9' target=\"_blank\">https://wandb.ai/deepchain/MPD/runs/tt5io8a9</a>"
      ],
      "text/plain": [
       "<IPython.core.display.HTML object>"
      ]
     },
     "metadata": {},
     "output_type": "display_data"
    },
    {
     "name": "stderr",
     "output_type": "stream",
     "text": [
      "\u001b[34m\u001b[1mwandb\u001b[0m: \u001b[33mWARNING\u001b[0m The save_model argument by default saves the model in the HDF5 format that cannot save custom objects like subclassed models and custom layers. This behavior will be deprecated in a future release in favor of the SavedModel format. Meanwhile, the HDF5 model is saved as W&B files and the SavedModel as W&B Artifacts.\n"
     ]
    },
    {
     "name": "stdout",
     "output_type": "stream",
     "text": [
      "Epoch 1/100\n",
      "435/435 [==============================] - 119s 269ms/step - loss: 0.4218 - accuracy: 0.8296 - precision: 0.8416 - recall: 0.8978 - val_loss: 0.9083 - val_accuracy: 0.4689 - val_precision: 1.0000 - val_recall: 0.4689\n"
     ]
    },
    {
     "name": "stderr",
     "output_type": "stream",
     "text": [
      "WARNING:absl:Found untraced functions such as lstm_cell_layer_call_fn, lstm_cell_layer_call_and_return_conditional_losses, lstm_cell_layer_call_fn, lstm_cell_layer_call_and_return_conditional_losses, lstm_cell_layer_call_and_return_conditional_losses while saving (showing 5 of 5). These functions will not be directly callable after loading.\n"
     ]
    },
    {
     "name": "stdout",
     "output_type": "stream",
     "text": [
      "INFO:tensorflow:Assets written to: c:\\DeepChainSols\\MPC\\Usama_Training_Notebook\\wandb\\run-20231205_162117-tt5io8a9\\files\\model-best\\assets\n"
     ]
    },
    {
     "name": "stderr",
     "output_type": "stream",
     "text": [
      "INFO:tensorflow:Assets written to: c:\\DeepChainSols\\MPC\\Usama_Training_Notebook\\wandb\\run-20231205_162117-tt5io8a9\\files\\model-best\\assets\n",
      "\u001b[34m\u001b[1mwandb\u001b[0m: Adding directory to artifact (c:\\DeepChainSols\\MPC\\Usama_Training_Notebook\\wandb\\run-20231205_162117-tt5io8a9\\files\\model-best)... Done. 0.1s\n"
     ]
    },
    {
     "name": "stdout",
     "output_type": "stream",
     "text": [
      "Epoch 2/100\n",
      "435/435 [==============================] - 113s 260ms/step - loss: 0.2483 - accuracy: 0.9014 - precision: 0.9106 - recall: 0.9349 - val_loss: 0.6704 - val_accuracy: 0.6214 - val_precision: 1.0000 - val_recall: 0.6214\n"
     ]
    },
    {
     "name": "stderr",
     "output_type": "stream",
     "text": [
      "WARNING:absl:Found untraced functions such as lstm_cell_layer_call_fn, lstm_cell_layer_call_and_return_conditional_losses, lstm_cell_layer_call_fn, lstm_cell_layer_call_and_return_conditional_losses, lstm_cell_layer_call_and_return_conditional_losses while saving (showing 5 of 5). These functions will not be directly callable after loading.\n"
     ]
    },
    {
     "name": "stdout",
     "output_type": "stream",
     "text": [
      "INFO:tensorflow:Assets written to: c:\\DeepChainSols\\MPC\\Usama_Training_Notebook\\wandb\\run-20231205_162117-tt5io8a9\\files\\model-best\\assets\n"
     ]
    },
    {
     "name": "stderr",
     "output_type": "stream",
     "text": [
      "INFO:tensorflow:Assets written to: c:\\DeepChainSols\\MPC\\Usama_Training_Notebook\\wandb\\run-20231205_162117-tt5io8a9\\files\\model-best\\assets\n",
      "\u001b[34m\u001b[1mwandb\u001b[0m: Adding directory to artifact (c:\\DeepChainSols\\MPC\\Usama_Training_Notebook\\wandb\\run-20231205_162117-tt5io8a9\\files\\model-best)... Done. 0.1s\n"
     ]
    },
    {
     "name": "stdout",
     "output_type": "stream",
     "text": [
      "Epoch 3/100\n",
      "435/435 [==============================] - 117s 270ms/step - loss: 0.2045 - accuracy: 0.9218 - precision: 0.9395 - recall: 0.9357 - val_loss: 0.3270 - val_accuracy: 0.8834 - val_precision: 1.0000 - val_recall: 0.8834\n"
     ]
    },
    {
     "name": "stderr",
     "output_type": "stream",
     "text": [
      "WARNING:absl:Found untraced functions such as lstm_cell_layer_call_fn, lstm_cell_layer_call_and_return_conditional_losses, lstm_cell_layer_call_fn, lstm_cell_layer_call_and_return_conditional_losses, lstm_cell_layer_call_and_return_conditional_losses while saving (showing 5 of 5). These functions will not be directly callable after loading.\n"
     ]
    },
    {
     "name": "stdout",
     "output_type": "stream",
     "text": [
      "INFO:tensorflow:Assets written to: c:\\DeepChainSols\\MPC\\Usama_Training_Notebook\\wandb\\run-20231205_162117-tt5io8a9\\files\\model-best\\assets\n"
     ]
    },
    {
     "name": "stderr",
     "output_type": "stream",
     "text": [
      "INFO:tensorflow:Assets written to: c:\\DeepChainSols\\MPC\\Usama_Training_Notebook\\wandb\\run-20231205_162117-tt5io8a9\\files\\model-best\\assets\n",
      "\u001b[34m\u001b[1mwandb\u001b[0m: Adding directory to artifact (c:\\DeepChainSols\\MPC\\Usama_Training_Notebook\\wandb\\run-20231205_162117-tt5io8a9\\files\\model-best)... Done. 0.1s\n"
     ]
    },
    {
     "name": "stdout",
     "output_type": "stream",
     "text": [
      "Epoch 4/100\n",
      "435/435 [==============================] - 108s 249ms/step - loss: 0.1747 - accuracy: 0.9292 - precision: 0.9496 - recall: 0.9370 - val_loss: 0.4538 - val_accuracy: 0.8077 - val_precision: 1.0000 - val_recall: 0.8077\n",
      "Epoch 5/100\n",
      "435/435 [==============================] - 114s 262ms/step - loss: 0.1547 - accuracy: 0.9343 - precision: 0.9530 - recall: 0.9419 - val_loss: 0.5099 - val_accuracy: 0.8658 - val_precision: 1.0000 - val_recall: 0.8658\n",
      "Epoch 6/100\n",
      "435/435 [==============================] - 121s 279ms/step - loss: 0.1794 - accuracy: 0.9254 - precision: 0.9505 - recall: 0.9298 - val_loss: 0.7523 - val_accuracy: 0.5014 - val_precision: 1.0000 - val_recall: 0.5014\n",
      "Epoch 7/100\n",
      "435/435 [==============================] - 102s 234ms/step - loss: 0.2033 - accuracy: 0.9173 - precision: 0.9407 - recall: 0.9268 - val_loss: 1.0390 - val_accuracy: 0.2643 - val_precision: 1.0000 - val_recall: 0.2643\n",
      "Epoch 8/100\n",
      "435/435 [==============================] - 103s 236ms/step - loss: 0.1835 - accuracy: 0.9213 - precision: 0.9476 - recall: 0.9260 - val_loss: 0.8572 - val_accuracy: 0.4872 - val_precision: 1.0000 - val_recall: 0.4872\n",
      "Epoch 9/100\n",
      "435/435 [==============================] - 137s 314ms/step - loss: 0.1780 - accuracy: 0.9261 - precision: 0.9504 - recall: 0.9310 - val_loss: 0.5772 - val_accuracy: 0.7024 - val_precision: 1.0000 - val_recall: 0.7024\n",
      "Epoch 10/100\n",
      "435/435 [==============================] - 107s 247ms/step - loss: 0.1586 - accuracy: 0.9335 - precision: 0.9563 - recall: 0.9370 - val_loss: 0.9886 - val_accuracy: 0.5259 - val_precision: 1.0000 - val_recall: 0.5259\n",
      "Epoch 11/100\n",
      "435/435 [==============================] - 104s 238ms/step - loss: 0.1485 - accuracy: 0.9362 - precision: 0.9587 - recall: 0.9390 - val_loss: 0.4204 - val_accuracy: 0.8610 - val_precision: 1.0000 - val_recall: 0.8610\n",
      "Epoch 12/100\n",
      "435/435 [==============================] - 116s 268ms/step - loss: 0.1440 - accuracy: 0.9374 - precision: 0.9573 - recall: 0.9423 - val_loss: 0.3177 - val_accuracy: 0.8919 - val_precision: 1.0000 - val_recall: 0.8919\n"
     ]
    },
    {
     "name": "stderr",
     "output_type": "stream",
     "text": [
      "WARNING:absl:Found untraced functions such as lstm_cell_layer_call_fn, lstm_cell_layer_call_and_return_conditional_losses, lstm_cell_layer_call_fn, lstm_cell_layer_call_and_return_conditional_losses, lstm_cell_layer_call_and_return_conditional_losses while saving (showing 5 of 5). These functions will not be directly callable after loading.\n"
     ]
    },
    {
     "name": "stdout",
     "output_type": "stream",
     "text": [
      "INFO:tensorflow:Assets written to: c:\\DeepChainSols\\MPC\\Usama_Training_Notebook\\wandb\\run-20231205_162117-tt5io8a9\\files\\model-best\\assets\n"
     ]
    },
    {
     "name": "stderr",
     "output_type": "stream",
     "text": [
      "INFO:tensorflow:Assets written to: c:\\DeepChainSols\\MPC\\Usama_Training_Notebook\\wandb\\run-20231205_162117-tt5io8a9\\files\\model-best\\assets\n",
      "\u001b[34m\u001b[1mwandb\u001b[0m: Adding directory to artifact (c:\\DeepChainSols\\MPC\\Usama_Training_Notebook\\wandb\\run-20231205_162117-tt5io8a9\\files\\model-best)... Done. 0.1s\n"
     ]
    },
    {
     "name": "stdout",
     "output_type": "stream",
     "text": [
      "Epoch 13/100\n",
      "435/435 [==============================] - 105s 240ms/step - loss: 0.1521 - accuracy: 0.9368 - precision: 0.9564 - recall: 0.9424 - val_loss: 0.6522 - val_accuracy: 0.7340 - val_precision: 1.0000 - val_recall: 0.7340\n",
      "Epoch 14/100\n",
      "435/435 [==============================] - 151s 348ms/step - loss: 0.1362 - accuracy: 0.9422 - precision: 0.9597 - recall: 0.9479 - val_loss: 0.2738 - val_accuracy: 0.9201 - val_precision: 1.0000 - val_recall: 0.9201\n"
     ]
    },
    {
     "name": "stderr",
     "output_type": "stream",
     "text": [
      "WARNING:absl:Found untraced functions such as lstm_cell_layer_call_fn, lstm_cell_layer_call_and_return_conditional_losses, lstm_cell_layer_call_fn, lstm_cell_layer_call_and_return_conditional_losses, lstm_cell_layer_call_and_return_conditional_losses while saving (showing 5 of 5). These functions will not be directly callable after loading.\n"
     ]
    },
    {
     "name": "stdout",
     "output_type": "stream",
     "text": [
      "INFO:tensorflow:Assets written to: c:\\DeepChainSols\\MPC\\Usama_Training_Notebook\\wandb\\run-20231205_162117-tt5io8a9\\files\\model-best\\assets\n"
     ]
    },
    {
     "name": "stderr",
     "output_type": "stream",
     "text": [
      "INFO:tensorflow:Assets written to: c:\\DeepChainSols\\MPC\\Usama_Training_Notebook\\wandb\\run-20231205_162117-tt5io8a9\\files\\model-best\\assets\n",
      "\u001b[34m\u001b[1mwandb\u001b[0m: Adding directory to artifact (c:\\DeepChainSols\\MPC\\Usama_Training_Notebook\\wandb\\run-20231205_162117-tt5io8a9\\files\\model-best)... Done. 0.1s\n"
     ]
    },
    {
     "name": "stdout",
     "output_type": "stream",
     "text": [
      "Epoch 15/100\n",
      "435/435 [==============================] - 168s 385ms/step - loss: 0.1464 - accuracy: 0.9391 - precision: 0.9591 - recall: 0.9434 - val_loss: 0.6193 - val_accuracy: 0.6977 - val_precision: 1.0000 - val_recall: 0.6977\n",
      "Epoch 16/100\n",
      "435/435 [==============================] - 138s 317ms/step - loss: 0.1676 - accuracy: 0.9302 - precision: 0.9534 - recall: 0.9345 - val_loss: 1.4509 - val_accuracy: 0.3591 - val_precision: 1.0000 - val_recall: 0.3591\n",
      "Epoch 17/100\n",
      "435/435 [==============================] - 160s 368ms/step - loss: 0.2502 - accuracy: 0.9001 - precision: 0.9280 - recall: 0.9118 - val_loss: 0.5802 - val_accuracy: 0.6680 - val_precision: 1.0000 - val_recall: 0.6680\n",
      "Epoch 18/100\n",
      "435/435 [==============================] - 223s 514ms/step - loss: 0.2059 - accuracy: 0.9160 - precision: 0.9422 - recall: 0.9230 - val_loss: 0.5279 - val_accuracy: 0.8358 - val_precision: 1.0000 - val_recall: 0.8358\n",
      "Epoch 19/100\n",
      "435/435 [==============================] - 124s 286ms/step - loss: 0.1958 - accuracy: 0.9178 - precision: 0.9389 - recall: 0.9296 - val_loss: 0.5378 - val_accuracy: 0.8426 - val_precision: 1.0000 - val_recall: 0.8426\n",
      "Epoch 20/100\n",
      "435/435 [==============================] - 142s 326ms/step - loss: 0.1923 - accuracy: 0.9204 - precision: 0.9383 - recall: 0.9348 - val_loss: 0.5370 - val_accuracy: 0.8347 - val_precision: 1.0000 - val_recall: 0.8347\n",
      "Epoch 21/100\n",
      "435/435 [==============================] - 124s 285ms/step - loss: 0.1845 - accuracy: 0.9236 - precision: 0.9395 - recall: 0.9388 - val_loss: 0.5446 - val_accuracy: 0.8374 - val_precision: 1.0000 - val_recall: 0.8374\n",
      "Epoch 22/100\n",
      "426/435 [============================>.] - ETA: 2s - loss: 0.1800 - accuracy: 0.9255 - precision: 0.9407 - recall: 0.9410"
     ]
    }
   ],
   "source": [
    "lstm = model(x,y,'adam')"
   ]
  },
  {
   "cell_type": "code",
   "execution_count": null,
   "metadata": {},
   "outputs": [],
   "source": [
    "# Evaluate the model on the data\n",
    "results = lstm.evaluate(x, y, verbose=2)\n",
    "\n",
    "# Unpack the results\n",
    "loss = results[0]\n",
    "accuracy = results[1]\n",
    "precision = results[2]\n",
    "recall = results[3]"
   ]
  }
 ],
 "metadata": {
  "kernelspec": {
   "display_name": "DeepChain",
   "language": "python",
   "name": "python3"
  },
  "language_info": {
   "codemirror_mode": {
    "name": "ipython",
    "version": 3
   },
   "file_extension": ".py",
   "mimetype": "text/x-python",
   "name": "python",
   "nbconvert_exporter": "python",
   "pygments_lexer": "ipython3",
   "version": "3.6.5"
  }
 },
 "nbformat": 4,
 "nbformat_minor": 2
}
