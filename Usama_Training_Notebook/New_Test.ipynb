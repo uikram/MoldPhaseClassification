{
 "cells": [
  {
   "cell_type": "code",
   "execution_count": 2,
   "metadata": {},
   "outputs": [],
   "source": [
    "import os\n",
    "import pandas as pd\n",
    "import numpy as np\n",
    "import warnings\n",
    "import datetime\n",
    "from utils.Preprocessing import label_data, all_phase_sort\n",
    "from utils.sliding_window import sliding_window\n",
    "from utils.model import model\n",
    "from sklearn.preprocessing import StandardScaler\n",
    "warnings.filterwarnings(\"ignore\")\n",
    "import tensorflow as tf"
   ]
  },
  {
   "cell_type": "code",
   "execution_count": 3,
   "metadata": {},
   "outputs": [
    {
     "name": "stdout",
     "output_type": "stream",
     "text": [
      "Processed: Organized Data\\brazil\\continental_brazil_1648482_statistics.csv\n",
      "Processed: Organized Data\\brazil\\electrolux_brazil_1485559_statistics.csv\n",
      "Processed: Organized Data\\canada\\hofmannplastics_canada_116239_statistics.csv\n",
      "Processed: Organized Data\\china\\abb_china_36405_statistics.csv\n",
      "Processed: Organized Data\\china\\abb_china_36435_statistics.csv\n",
      "Processed: Organized Data\\china\\abb_china_36440_statistics.csv\n",
      "Processed: Organized Data\\china\\abb_china_36445_statistics.csv\n",
      "Processed: Organized Data\\china\\abb_china_36450_statistics.csv\n",
      "Processed: Organized Data\\china\\abb_china_36455_statistics.csv\n",
      "Processed: Organized Data\\china\\abb_china_36460_statistics.csv\n",
      "Processed: Organized Data\\china\\abb_china_36475_statistics.csv\n",
      "Processed: Organized Data\\china\\abb_china_36480_statistics.csv\n",
      "Processed: Organized Data\\china\\abb_china_36497_statistics.csv\n",
      "Processed: Organized Data\\china\\abb_china_36501_statistics.csv\n",
      "Processed: Organized Data\\china\\abb_china_36505_statistics.csv\n",
      "Processed: Organized Data\\france\\loreal_france_119961_statistics.csv\n",
      "Processed: Organized Data\\france\\loreal_france_119970_statistics.csv\n",
      "Processed: Organized Data\\france\\loreal_france_119990_statistics.csv\n",
      "Processed: Organized Data\\france\\loreal_france_119994_statistics.csv\n",
      "Processed: Organized Data\\france\\loreal_france_119998_statistics.csv\n",
      "Processed: Organized Data\\france\\loreal_france_120006_statistics.csv\n",
      "Processed: Organized Data\\france\\loreal_france_120010_statistics.csv\n",
      "Processed: Organized Data\\france\\loreal_france_120018_statistics.csv\n",
      "Processed: Organized Data\\france\\loreal_france_120030_statistics.csv\n",
      "Processed: Organized Data\\france\\loreal_france_120034_statistics.csv\n",
      "Processed: Organized Data\\france\\loreal_france_120042_statistics.csv\n",
      "Processed: Organized Data\\france\\loreal_france_120046_statistics.csv\n",
      "Processed: Organized Data\\france\\loreal_france_120050_statistics.csv\n",
      "Processed: Organized Data\\france\\loreal_france_120138_statistics.csv\n",
      "Processed: Organized Data\\france\\loreal_france_120142_statistics.csv\n",
      "Processed: Organized Data\\france\\loreal_france_6575633_statistics.csv\n",
      "Processed: Organized Data\\germany\\abb_germany_225414_statistics.csv\n",
      "Processed: Organized Data\\italy\\denso_italy_59401_statistics.csv\n",
      "Processed: Organized Data\\singapore\\dyson_singapore_28435537_statistics.csv\n",
      "Processed: Organized Data\\singapore\\dyson_singapore_28435657_statistics.csv\n",
      "Processed: Organized Data\\singapore\\dyson_singapore_28529870_statistics.csv\n",
      "Processed: Organized Data\\singapore\\dyson_singapore_5534127_statistics.csv\n",
      "Processed: Organized Data\\singapore\\dyson_singapore_5534132_statistics.csv\n",
      "Processed: Organized Data\\singapore\\dyson_singapore_5534156_statistics.csv\n",
      "Processed: Organized Data\\singapore\\dyson_singapore_5534235_statistics.csv\n",
      "Processed: Organized Data\\singapore\\dyson_singapore_8043780_statistics.csv\n",
      "Processed: Organized Data\\switzerland\\nestle_switzerland_103961_statistics.csv\n",
      "Processed: Organized Data\\switzerland\\nestle_switzerland_103973_statistics.csv\n",
      "Processed: Organized Data\\switzerland\\nestle_switzerland_103997_statistics.csv\n",
      "Processed: Organized Data\\usa\\daikin_usa_104210_statistics.csv\n"
     ]
    }
   ],
   "source": [
    "#Label the Raw Data (Directory for Labelled = \\Processed\\Labelled_Data)\n",
    "label_data('Organized Data')"
   ]
  },
  {
   "cell_type": "code",
   "execution_count": 4,
   "metadata": {},
   "outputs": [
    {
     "name": "stdout",
     "output_type": "stream",
     "text": [
      "Copied: Processed\\Labelled_Data\\brazil\\continental_brazil_1648482_statistics.csv to Processed/Labelled_Data_Complete_Phase(1-4)\\brazil\\continental_brazil_1648482_statistics.csv\n",
      "Copied: Processed\\Labelled_Data\\brazil\\electrolux_brazil_1485559_statistics.csv to Processed/Labelled_Data_Complete_Phase(1-4)\\brazil\\electrolux_brazil_1485559_statistics.csv\n",
      "Copied: Processed\\Labelled_Data\\canada\\hofmannplastics_canada_116239_statistics.csv to Processed/Labelled_Data_Complete_Phase(1-4)\\canada\\hofmannplastics_canada_116239_statistics.csv\n",
      "Copied: Processed\\Labelled_Data\\china\\abb_china_36405_statistics.csv to Processed/Labelled_Data_Complete_Phase(1-4)\\china\\abb_china_36405_statistics.csv\n",
      "Copied: Processed\\Labelled_Data\\china\\abb_china_36435_statistics.csv to Processed/Labelled_Data_Complete_Phase(1-4)\\china\\abb_china_36435_statistics.csv\n",
      "Copied: Processed\\Labelled_Data\\china\\abb_china_36440_statistics.csv to Processed/Labelled_Data_Complete_Phase(1-4)\\china\\abb_china_36440_statistics.csv\n",
      "Copied: Processed\\Labelled_Data\\china\\abb_china_36445_statistics.csv to Processed/Labelled_Data_Complete_Phase(1-4)\\china\\abb_china_36445_statistics.csv\n",
      "Copied: Processed\\Labelled_Data\\china\\abb_china_36450_statistics.csv to Processed/Labelled_Data_Complete_Phase(1-4)\\china\\abb_china_36450_statistics.csv\n",
      "Copied: Processed\\Labelled_Data\\china\\abb_china_36455_statistics.csv to Processed/Labelled_Data_Complete_Phase(1-4)\\china\\abb_china_36455_statistics.csv\n",
      "Copied: Processed\\Labelled_Data\\china\\abb_china_36460_statistics.csv to Processed/Labelled_Data_Complete_Phase(1-4)\\china\\abb_china_36460_statistics.csv\n",
      "Copied: Processed\\Labelled_Data\\china\\abb_china_36475_statistics.csv to Processed/Labelled_Data_Complete_Phase(1-4)\\china\\abb_china_36475_statistics.csv\n",
      "Copied: Processed\\Labelled_Data\\china\\abb_china_36480_statistics.csv to Processed/Labelled_Data_Complete_Phase(1-4)\\china\\abb_china_36480_statistics.csv\n",
      "Copied: Processed\\Labelled_Data\\china\\abb_china_36497_statistics.csv to Processed/Labelled_Data_Complete_Phase(1-4)\\china\\abb_china_36497_statistics.csv\n",
      "Copied: Processed\\Labelled_Data\\china\\abb_china_36501_statistics.csv to Processed/Labelled_Data_Complete_Phase(1-4)\\china\\abb_china_36501_statistics.csv\n",
      "Copied: Processed\\Labelled_Data\\china\\abb_china_36505_statistics.csv to Processed/Labelled_Data_Complete_Phase(1-4)\\china\\abb_china_36505_statistics.csv\n",
      "Copied: Processed\\Labelled_Data\\france\\loreal_france_119961_statistics.csv to Processed/Labelled_Data_Complete_Phase(1-4)\\france\\loreal_france_119961_statistics.csv\n",
      "Copied: Processed\\Labelled_Data\\france\\loreal_france_119970_statistics.csv to Processed/Labelled_Data_Complete_Phase(1-4)\\france\\loreal_france_119970_statistics.csv\n",
      "Copied: Processed\\Labelled_Data\\france\\loreal_france_119990_statistics.csv to Processed/Labelled_Data_Complete_Phase(1-4)\\france\\loreal_france_119990_statistics.csv\n",
      "Copied: Processed\\Labelled_Data\\france\\loreal_france_119994_statistics.csv to Processed/Labelled_Data_Complete_Phase(1-4)\\france\\loreal_france_119994_statistics.csv\n",
      "Copied: Processed\\Labelled_Data\\france\\loreal_france_119998_statistics.csv to Processed/Labelled_Data_Complete_Phase(1-4)\\france\\loreal_france_119998_statistics.csv\n",
      "Copied: Processed\\Labelled_Data\\france\\loreal_france_120006_statistics.csv to Processed/Labelled_Data_Complete_Phase(1-4)\\france\\loreal_france_120006_statistics.csv\n",
      "Copied: Processed\\Labelled_Data\\france\\loreal_france_120010_statistics.csv to Processed/Labelled_Data_Complete_Phase(1-4)\\france\\loreal_france_120010_statistics.csv\n",
      "Copied: Processed\\Labelled_Data\\france\\loreal_france_120018_statistics.csv to Processed/Labelled_Data_Complete_Phase(1-4)\\france\\loreal_france_120018_statistics.csv\n",
      "Copied: Processed\\Labelled_Data\\france\\loreal_france_120030_statistics.csv to Processed/Labelled_Data_Complete_Phase(1-4)\\france\\loreal_france_120030_statistics.csv\n",
      "Copied: Processed\\Labelled_Data\\france\\loreal_france_120034_statistics.csv to Processed/Labelled_Data_Complete_Phase(1-4)\\france\\loreal_france_120034_statistics.csv\n",
      "Copied: Processed\\Labelled_Data\\france\\loreal_france_120042_statistics.csv to Processed/Labelled_Data_Complete_Phase(1-4)\\france\\loreal_france_120042_statistics.csv\n",
      "Copied: Processed\\Labelled_Data\\france\\loreal_france_120046_statistics.csv to Processed/Labelled_Data_Complete_Phase(1-4)\\france\\loreal_france_120046_statistics.csv\n",
      "Copied: Processed\\Labelled_Data\\france\\loreal_france_120050_statistics.csv to Processed/Labelled_Data_Complete_Phase(1-4)\\france\\loreal_france_120050_statistics.csv\n",
      "Copied: Processed\\Labelled_Data\\france\\loreal_france_120138_statistics.csv to Processed/Labelled_Data_Complete_Phase(1-4)\\france\\loreal_france_120138_statistics.csv\n",
      "Copied: Processed\\Labelled_Data\\france\\loreal_france_120142_statistics.csv to Processed/Labelled_Data_Complete_Phase(1-4)\\france\\loreal_france_120142_statistics.csv\n",
      "Copied: Processed\\Labelled_Data\\france\\loreal_france_6575633_statistics.csv to Processed/Labelled_Data_Complete_Phase(1-4)\\france\\loreal_france_6575633_statistics.csv\n",
      "Copied: Processed\\Labelled_Data\\germany\\abb_germany_225414_statistics.csv to Processed/Labelled_Data_Complete_Phase(1-4)\\germany\\abb_germany_225414_statistics.csv\n",
      "Copied: Processed\\Labelled_Data\\italy\\denso_italy_59401_statistics.csv to Processed/Labelled_Data_Complete_Phase(1-4)\\italy\\denso_italy_59401_statistics.csv\n",
      "Copied: Processed\\Labelled_Data\\singapore\\dyson_singapore_28435537_statistics.csv to Processed/Labelled_Data_Complete_Phase(1-4)\\singapore\\dyson_singapore_28435537_statistics.csv\n",
      "Copied: Processed\\Labelled_Data\\singapore\\dyson_singapore_28435657_statistics.csv to Processed/Labelled_Data_Complete_Phase(1-4)\\singapore\\dyson_singapore_28435657_statistics.csv\n",
      "Copied: Processed\\Labelled_Data\\singapore\\dyson_singapore_28529870_statistics.csv to Processed/Labelled_Data_Complete_Phase(1-4)\\singapore\\dyson_singapore_28529870_statistics.csv\n",
      "Copied: Processed\\Labelled_Data\\singapore\\dyson_singapore_5534127_statistics.csv to Processed/Labelled_Data_Complete_Phase(1-4)\\singapore\\dyson_singapore_5534127_statistics.csv\n",
      "Copied: Processed\\Labelled_Data\\singapore\\dyson_singapore_5534132_statistics.csv to Processed/Labelled_Data_Complete_Phase(1-4)\\singapore\\dyson_singapore_5534132_statistics.csv\n",
      "Copied: Processed\\Labelled_Data\\singapore\\dyson_singapore_5534156_statistics.csv to Processed/Labelled_Data_Complete_Phase(1-4)\\singapore\\dyson_singapore_5534156_statistics.csv\n",
      "Copied: Processed\\Labelled_Data\\singapore\\dyson_singapore_5534235_statistics.csv to Processed/Labelled_Data_Complete_Phase(1-4)\\singapore\\dyson_singapore_5534235_statistics.csv\n",
      "Copied: Processed\\Labelled_Data\\singapore\\dyson_singapore_8043780_statistics.csv to Processed/Labelled_Data_Complete_Phase(1-4)\\singapore\\dyson_singapore_8043780_statistics.csv\n",
      "Copied: Processed\\Labelled_Data\\switzerland\\nestle_switzerland_103961_statistics.csv to Processed/Labelled_Data_Complete_Phase(1-4)\\switzerland\\nestle_switzerland_103961_statistics.csv\n",
      "Copied: Processed\\Labelled_Data\\switzerland\\nestle_switzerland_103973_statistics.csv to Processed/Labelled_Data_Complete_Phase(1-4)\\switzerland\\nestle_switzerland_103973_statistics.csv\n",
      "Copied: Processed\\Labelled_Data\\switzerland\\nestle_switzerland_103997_statistics.csv to Processed/Labelled_Data_Complete_Phase(1-4)\\switzerland\\nestle_switzerland_103997_statistics.csv\n",
      "Copied: Processed\\Labelled_Data\\usa\\daikin_usa_104210_statistics.csv to Processed/Labelled_Data_Complete_Phase(1-4)\\usa\\daikin_usa_104210_statistics.csv\n"
     ]
    }
   ],
   "source": [
    "#Sort Data Containing All phases (Directory containing all phases = \\Labelled_Data_Complete_Phase(1-4))\n",
    "all_phase_sort('Processed\\Labelled_Data')"
   ]
  },
  {
   "cell_type": "code",
   "execution_count": 6,
   "metadata": {},
   "outputs": [
    {
     "data": {
      "text/html": [
       "<div>\n",
       "<style scoped>\n",
       "    .dataframe tbody tr th:only-of-type {\n",
       "        vertical-align: middle;\n",
       "    }\n",
       "\n",
       "    .dataframe tbody tr th {\n",
       "        vertical-align: top;\n",
       "    }\n",
       "\n",
       "    .dataframe thead th {\n",
       "        text-align: right;\n",
       "    }\n",
       "</style>\n",
       "<table border=\"1\" class=\"dataframe\">\n",
       "  <thead>\n",
       "    <tr style=\"text-align: right;\">\n",
       "      <th></th>\n",
       "      <th>HOUR</th>\n",
       "      <th>MOLD_ID</th>\n",
       "      <th>CT</th>\n",
       "      <th>TAV</th>\n",
       "      <th>SHOT_COUNT</th>\n",
       "      <th>PHASE</th>\n",
       "    </tr>\n",
       "  </thead>\n",
       "  <tbody>\n",
       "    <tr>\n",
       "      <th>0</th>\n",
       "      <td>2020-09-22 16:00:00</td>\n",
       "      <td>36475</td>\n",
       "      <td>0.0</td>\n",
       "      <td>273</td>\n",
       "      <td>0</td>\n",
       "      <td>1</td>\n",
       "    </tr>\n",
       "    <tr>\n",
       "      <th>1</th>\n",
       "      <td>2020-09-22 17:00:00</td>\n",
       "      <td>36475</td>\n",
       "      <td>0.0</td>\n",
       "      <td>273</td>\n",
       "      <td>0</td>\n",
       "      <td>1</td>\n",
       "    </tr>\n",
       "    <tr>\n",
       "      <th>2</th>\n",
       "      <td>2020-09-22 18:00:00</td>\n",
       "      <td>36475</td>\n",
       "      <td>0.0</td>\n",
       "      <td>276</td>\n",
       "      <td>0</td>\n",
       "      <td>1</td>\n",
       "    </tr>\n",
       "    <tr>\n",
       "      <th>3</th>\n",
       "      <td>2020-09-22 19:00:00</td>\n",
       "      <td>36475</td>\n",
       "      <td>0.0</td>\n",
       "      <td>275</td>\n",
       "      <td>0</td>\n",
       "      <td>1</td>\n",
       "    </tr>\n",
       "    <tr>\n",
       "      <th>4</th>\n",
       "      <td>2020-09-22 20:00:00</td>\n",
       "      <td>36475</td>\n",
       "      <td>0.0</td>\n",
       "      <td>275</td>\n",
       "      <td>0</td>\n",
       "      <td>1</td>\n",
       "    </tr>\n",
       "    <tr>\n",
       "      <th>...</th>\n",
       "      <td>...</td>\n",
       "      <td>...</td>\n",
       "      <td>...</td>\n",
       "      <td>...</td>\n",
       "      <td>...</td>\n",
       "      <td>...</td>\n",
       "    </tr>\n",
       "    <tr>\n",
       "      <th>18081</th>\n",
       "      <td>2023-10-29 12:00:00</td>\n",
       "      <td>36475</td>\n",
       "      <td>0.0</td>\n",
       "      <td>225</td>\n",
       "      <td>0</td>\n",
       "      <td>4</td>\n",
       "    </tr>\n",
       "    <tr>\n",
       "      <th>18082</th>\n",
       "      <td>2023-10-29 13:00:00</td>\n",
       "      <td>36475</td>\n",
       "      <td>0.0</td>\n",
       "      <td>224</td>\n",
       "      <td>0</td>\n",
       "      <td>4</td>\n",
       "    </tr>\n",
       "    <tr>\n",
       "      <th>18083</th>\n",
       "      <td>2023-10-29 14:00:00</td>\n",
       "      <td>36475</td>\n",
       "      <td>0.0</td>\n",
       "      <td>225</td>\n",
       "      <td>0</td>\n",
       "      <td>4</td>\n",
       "    </tr>\n",
       "    <tr>\n",
       "      <th>18084</th>\n",
       "      <td>2023-10-29 15:00:00</td>\n",
       "      <td>36475</td>\n",
       "      <td>0.0</td>\n",
       "      <td>221</td>\n",
       "      <td>0</td>\n",
       "      <td>4</td>\n",
       "    </tr>\n",
       "    <tr>\n",
       "      <th>18085</th>\n",
       "      <td>2023-10-29 16:00:00</td>\n",
       "      <td>36475</td>\n",
       "      <td>0.0</td>\n",
       "      <td>222</td>\n",
       "      <td>0</td>\n",
       "      <td>4</td>\n",
       "    </tr>\n",
       "  </tbody>\n",
       "</table>\n",
       "<p>18086 rows × 6 columns</p>\n",
       "</div>"
      ],
      "text/plain": [
       "                      HOUR  MOLD_ID   CT  TAV  SHOT_COUNT  PHASE\n",
       "0      2020-09-22 16:00:00    36475  0.0  273           0      1\n",
       "1      2020-09-22 17:00:00    36475  0.0  273           0      1\n",
       "2      2020-09-22 18:00:00    36475  0.0  276           0      1\n",
       "3      2020-09-22 19:00:00    36475  0.0  275           0      1\n",
       "4      2020-09-22 20:00:00    36475  0.0  275           0      1\n",
       "...                    ...      ...  ...  ...         ...    ...\n",
       "18081  2023-10-29 12:00:00    36475  0.0  225           0      4\n",
       "18082  2023-10-29 13:00:00    36475  0.0  224           0      4\n",
       "18083  2023-10-29 14:00:00    36475  0.0  225           0      4\n",
       "18084  2023-10-29 15:00:00    36475  0.0  221           0      4\n",
       "18085  2023-10-29 16:00:00    36475  0.0  222           0      4\n",
       "\n",
       "[18086 rows x 6 columns]"
      ]
     },
     "execution_count": 6,
     "metadata": {},
     "output_type": "execute_result"
    }
   ],
   "source": [
    "#Loading one mold for training\n",
    "df=pd.read_csv('Processed/Labelled_Data_Complete_Phase(1-4)/china/abb_china_36475_statistics.csv')\n",
    "df"
   ]
  },
  {
   "cell_type": "code",
   "execution_count": 7,
   "metadata": {},
   "outputs": [],
   "source": [
    "#Creating a sliding window \n",
    "window_size= 720 #window size is in hours (1D= 24, 1W=168, 1M=720)\n",
    "x,y = sliding_window(df,window_size)"
   ]
  },
  {
   "cell_type": "code",
   "execution_count": 8,
   "metadata": {},
   "outputs": [],
   "source": [
    "lstm = model(x,y,'adam')"
   ]
  },
  {
   "cell_type": "code",
   "execution_count": 9,
   "metadata": {},
   "outputs": [
    {
     "name": "stdout",
     "output_type": "stream",
     "text": [
      "Epoch 1/35\n",
      "1448/1448 - 308s - loss: 0.7925 - accuracy: 0.6880\n",
      "Epoch 2/35\n",
      "1448/1448 - 270s - loss: 0.5285 - accuracy: 0.8070\n",
      "Epoch 3/35\n",
      "1448/1448 - 267s - loss: 0.4247 - accuracy: 0.8498\n",
      "Epoch 4/35\n",
      "1448/1448 - 261s - loss: 0.3844 - accuracy: 0.8625\n",
      "Epoch 5/35\n",
      "1448/1448 - 270s - loss: 0.3542 - accuracy: 0.8715\n",
      "Epoch 6/35\n"
     ]
    }
   ],
   "source": [
    "# Train the model\n",
    "lstm.fit(x, y, epochs=35, batch_size=12, verbose=2)"
   ]
  },
  {
   "cell_type": "code",
   "execution_count": null,
   "metadata": {},
   "outputs": [],
   "source": [
    "lstm.save('Weights/abb_china_36505_statistics.h5')"
   ]
  },
  {
   "cell_type": "code",
   "execution_count": null,
   "metadata": {},
   "outputs": [],
   "source": [
    "# Create function to label windowed data\n",
    "def get_labelled_windows(x, horizon=1):\n",
    "  \"\"\"\n",
    "  Creates labels for windowed dataset.\n",
    "\n",
    "  E.g. if horizon=1 (default)\n",
    "  Input: [1, 2, 3, 4, 5, 6] -> Output: ([1, 2, 3, 4, 5], [6])\n",
    "  \"\"\"\n",
    "  return x[:, :-horizon], x[:, -horizon:]"
   ]
  },
  {
   "cell_type": "code",
   "execution_count": null,
   "metadata": {},
   "outputs": [],
   "source": [
    "# Create function to view NumPy arrays as windows \n",
    "def make_windows(x, window_size=50, horizon=5):\n",
    "  \"\"\"\n",
    "  Turns a 1D array into a 2D array of sequential windows of window_size.\n",
    "  \"\"\"\n",
    "  # 1. Create a window of specific window_size (add the horizon on the end for later labelling)\n",
    "  window_step = np.expand_dims(np.arange(window_size+horizon), axis=0)\n",
    "  # print(f\"Window step:\\n {window_step}\")\n",
    "\n",
    "  # 2. Create a 2D array of multiple window steps (minus 1 to account for 0 indexing)\n",
    "  window_indexes = window_step + np.expand_dims(np.arange(len(x)-(window_size+horizon-1)), axis=0).T # create 2D array of windows of size window_size\n",
    "  # print(f\"Window indexes:\\n {window_indexes[:3], window_indexes[-3:], window_indexes.shape}\")\n",
    "\n",
    "  # 3. Index on the target array (time series) with 2D array of multiple window steps\n",
    "  windowed_array = x[window_indexes]\n",
    "\n",
    "  # 4. Get the labelled windows\n",
    "  windows, labels = get_labelled_windows(windowed_array, horizon=horizon)\n",
    "\n",
    "  return windows, labels"
   ]
  },
  {
   "cell_type": "code",
   "execution_count": null,
   "metadata": {},
   "outputs": [],
   "source": [
    "test_window, test_label = get_labelled_windows(tf.expand_dims(tf.range(8)+1, axis=0))\n",
    "print(f\"Window: {tf.squeeze(test_window).numpy()} -> Label: {tf.squeeze(test_label).numpy()}\")"
   ]
  },
  {
   "cell_type": "code",
   "execution_count": null,
   "metadata": {},
   "outputs": [],
   "source": [
    "# Apply the function to each window in the DataFrame\n",
    "for index, row in df.iterrows():\n",
    "    features = row[['CT', 'TAV', 'SHOT_COUNT','PHASE']].values\n",
    "    \n",
    "    # Convert NumPy array to TensorFlow tensor\n",
    "    features_tensor = tf.convert_to_tensor(features, dtype=tf.float32)\n",
    "    \n",
    "    # Assume get_labelled_windows returns windows and labels\n",
    "    window, label = get_labelled_windows(tf.expand_dims(features_tensor, axis=0))\n",
    "    \n",
    "    # Now you can use the window and label as needed\n",
    "    print(f\"Window: {window}, Label: {label}\")"
   ]
  },
  {
   "cell_type": "code",
   "execution_count": null,
   "metadata": {},
   "outputs": [],
   "source": [
    "print(window)"
   ]
  },
  {
   "cell_type": "code",
   "execution_count": null,
   "metadata": {},
   "outputs": [],
   "source": [
    "window, label = get_labelled_windows(tf.expand_dims(features, axis=0))"
   ]
  },
  {
   "cell_type": "code",
   "execution_count": null,
   "metadata": {},
   "outputs": [],
   "source": [
    "print(f\"Loss: {loss}, Accuracy: {accuracy}\")"
   ]
  }
 ],
 "metadata": {
  "kernelspec": {
   "display_name": "Python 3",
   "language": "python",
   "name": "python3"
  },
  "language_info": {
   "codemirror_mode": {
    "name": "ipython",
    "version": 3
   },
   "file_extension": ".py",
   "mimetype": "text/x-python",
   "name": "python",
   "nbconvert_exporter": "python",
   "pygments_lexer": "ipython3",
   "version": "3.6.5"
  }
 },
 "nbformat": 4,
 "nbformat_minor": 2
}
